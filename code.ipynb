{
  "cells": [
    {
      "cell_type": "markdown",
      "metadata": {
        "id": "view-in-github",
        "colab_type": "text"
      },
      "source": [
        "<a href=\"https://colab.research.google.com/github/ab0101/RDC-C/blob/main/code.ipynb\" target=\"_parent\"><img src=\"https://colab.research.google.com/assets/colab-badge.svg\" alt=\"Open In Colab\"/></a>"
      ]
    },
    {
      "cell_type": "code",
      "execution_count": 7,
      "metadata": {
        "id": "ahmGaSxLeO0c",
        "colab": {
          "base_uri": "https://localhost:8080/"
        },
        "outputId": "45bf6f32-384b-47c8-e24b-1bd481ca4c90"
      },
      "outputs": [
        {
          "name": "stdout",
          "output_type": "stream",
          "text": [
            ":1\n",
            "numero: 10010\n",
            "[['-V', 'V'], ['V', '-V'], ['V', '-V'], ['-V', 'V'], ['V', '-V']]\n",
            ":1\n",
            "numero: 10010\n",
            "[['-V', 'V'], ['V', '-V'], ['V', '-V'], ['-V', 'V'], ['V', '-V']]\n",
            ":2\n",
            "4b5b\n",
            ":5\n"
          ]
        }
      ],
      "source": [
        "from re import X\n",
        "def menu():\n",
        "    seletor = int(input(':'))  \n",
        "    return seletor\n",
        "\n",
        "def digito():\n",
        "    check = False\n",
        "    while check == False:\n",
        "        num = int(input('numero: ')) \n",
        "        x = [] \n",
        "        while num > 0:\n",
        "            x.insert(0, num%10)\n",
        "            num //= 10\n",
        "        \n",
        "        for i in range(0, len(x)):\n",
        "            if x[i] == 0 or x[i] == 1:\n",
        "                check = True\n",
        "            else:\n",
        "                check = False\n",
        "                break\n",
        "        \n",
        "        if check == False:\n",
        "            print('apenas 1 e 0!!')\n",
        "        else:\n",
        "            pass\n",
        "    return x\n",
        "\n",
        "def manchester():\n",
        "    x = digito()\n",
        "    graph = []\n",
        "    for i in range(0, len(x)):\n",
        "        if x[i] == 0:\n",
        "        \tgraph.insert(i, ['V', '-V'])\n",
        "        else:\n",
        "        \tgraph.insert(i, ['-V', 'V'])\n",
        "    print(graph)\n",
        "\n",
        "def main():\n",
        "    seletor = 0\n",
        "    while seletor != 5:\n",
        "        seletor = menu()\n",
        "        if seletor == 1:\n",
        "            manchester()\n",
        "        if seletor == 2:\n",
        "            print('4b5b')\n",
        "        if seletor == 3:\n",
        "            print('pam5')\n",
        "        if seletor == 4:\n",
        "            print('sla')\n",
        "\n",
        "main()"
      ]
    }
  ],
  "metadata": {
    "kernelspec": {
      "display_name": "Python 3",
      "language": "python",
      "name": "python3"
    },
    "language_info": {
      "codemirror_mode": {
        "name": "ipython",
        "version": 3
      },
      "file_extension": ".py",
      "mimetype": "text/x-python",
      "name": "python",
      "nbconvert_exporter": "python",
      "pygments_lexer": "ipython3",
      "version": "3.6.4"
    },
    "colab": {
      "name": "code.ipynb",
      "provenance": [],
      "collapsed_sections": [],
      "include_colab_link": true
    }
  },
  "nbformat": 4,
  "nbformat_minor": 0
}